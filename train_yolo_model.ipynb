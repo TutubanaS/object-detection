{
  "nbformat": 4,
  "nbformat_minor": 0,
  "metadata": {
    "colab": {
      "provenance": [],
      "toc_visible": true,
      "mount_file_id": "1AvQOd-C8yPoPgRz2uZUdT0CAoLnL1Zwm",
      "authorship_tag": "ABX9TyNW+IwR7j7iOdLfrJj98pUu",
      "include_colab_link": true
    },
    "kernelspec": {
      "name": "python3",
      "display_name": "Python 3"
    },
    "language_info": {
      "name": "python"
    },
    "accelerator": "GPU",
    "gpuClass": "standard"
  },
  "cells": [
    {
      "cell_type": "markdown",
      "metadata": {
        "id": "view-in-github",
        "colab_type": "text"
      },
      "source": [
        "<a href=\"https://colab.research.google.com/github/TutubanaS/object-detection/blob/main/train_yolo_model.ipynb\" target=\"_parent\"><img src=\"https://colab.research.google.com/assets/colab-badge.svg\" alt=\"Open In Colab\"/></a>"
      ]
    },
    {
      "cell_type": "code",
      "execution_count": null,
      "metadata": {
        "id": "N2gOErbWBgoY"
      },
      "outputs": [],
      "source": [
        "!git clone https://github.com/ultralytics/yolov5  # clone\n",
        "%cd yolov5\n",
        "%pip install -qr requirements.txt  # install\n",
        "\n",
        "import torch\n",
        "import utils\n",
        "display = utils.notebook_init()  # checks\n",
        "\n",
        "from google.colab import drive\n",
        "drive.mount('/content/drive')"
      ]
    },
    {
      "cell_type": "code",
      "source": [],
      "metadata": {
        "id": "tR_a7X1JnA6H"
      },
      "execution_count": null,
      "outputs": []
    },
    {
      "cell_type": "code",
      "source": [
        "!unzip -q /content/drive/MyDrive/Data/train-data.zip -d ../"
      ],
      "metadata": {
        "id": "UJ0Pw9tHD3FT"
      },
      "execution_count": null,
      "outputs": []
    },
    {
      "cell_type": "code",
      "source": [
        "!python train.py --img 640 --batch 32 --epochs 300 --data custom.yaml --weights yolov5m.pt"
      ],
      "metadata": {
        "id": "48eX4WnhEvv1"
      },
      "execution_count": null,
      "outputs": []
    },
    {
      "cell_type": "code",
      "source": [
        "#%load_ext tensorboard\n",
        "%reload_ext tensorboard\n",
        "%tensorboard --logdir runs/train"
      ],
      "metadata": {
        "id": "AN3Ad5vGGe6k"
      },
      "execution_count": null,
      "outputs": []
    },
    {
      "cell_type": "code",
      "source": [
        "!zip -r /content/yolo_exp.zip /content/yolov5/runs/train/exp"
      ],
      "metadata": {
        "id": "NgPrWeresCzn"
      },
      "execution_count": null,
      "outputs": []
    },
    {
      "cell_type": "code",
      "source": [
        "from google.colab import files\n",
        "files.download(\"/content/yolo_exp5.zip\")"
      ],
      "metadata": {
        "id": "Mu_uwaknsPZv"
      },
      "execution_count": null,
      "outputs": []
    },
    {
      "cell_type": "code",
      "source": [
        "model = torch.hub.load(\"ultralytics/yolov5\", \"custom\", path = \"/content/yolov5/runs/train/exp5/weights/best.pt\", force_reload = True)"
      ],
      "metadata": {
        "id": "KkGMNu9L9rmo"
      },
      "execution_count": null,
      "outputs": []
    },
    {
      "cell_type": "code",
      "source": [
        "img = \"https://cdn.goturkiye.com/art/1-cermodern-02.jpg\"\n",
        "results = model(img)\n",
        "results.print()\n",
        "results.show()"
      ],
      "metadata": {
        "id": "gSvZ5jPZ-Sw5"
      },
      "execution_count": null,
      "outputs": []
    }
  ]
}